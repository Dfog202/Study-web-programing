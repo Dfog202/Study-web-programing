{
 "cells": [
  {
   "cell_type": "code",
   "execution_count": 21,
   "metadata": {},
   "outputs": [
    {
     "name": "stdout",
     "output_type": "stream",
     "text": [
      "champion variable init, id: 140326380109528\n",
      "champion variable edit in ilocal, id: 140326379969648\n",
      "after change_global_champion : Ahri\n",
      "champion variable iafter edit, id: 140326380109528\n",
      "print global champion : Lux\n"
     ]
    }
   ],
   "source": [
    "champion = 'Lux'\n",
    "print(\"champion variable init, id:\", id(champion))\n",
    "def change_global_champion():\n",
    "   # global champion\n",
    "    champion = 'Ahri'\n",
    "    print(\"champion variable edit in ilocal, id:\", id(champion))\n",
    "\n",
    "    print('after change_global_champion : {}'.format(champion))\n",
    "\n",
    "change_global_champion()\n",
    "print(\"champion variable iafter edit, id:\", id(champion))\n",
    "print('print global champion : {}'.format(champion))"
   ]
  },
  {
   "cell_type": "code",
   "execution_count": 40,
   "metadata": {},
   "outputs": [
    {
     "name": "stdout",
     "output_type": "stream",
     "text": [
      "local1 locals() : {'champion': 'Ahri'}\n",
      "local2 locals() : {'champion': 'Ezreal'}\n",
      "local1 locals() : {'champion': 'Ezreal', 'local2': <function local1.<locals>.local2 at 0x7fa04809ebf8>}\n"
     ]
    }
   ],
   "source": [
    "champion = 'Lux'\n",
    "\n",
    "def local1():\n",
    "    champion = 'Ahri'\n",
    "    print('local1 locals() : {}'.format(locals()))\n",
    "\n",
    "    def local2():\n",
    "        nonlocal champion\n",
    "        champion = 'Ezreal'\n",
    "        print('local2 locals() : {}'.format(locals()))\n",
    "    local2()\n",
    "    print('local1 locals() : {}'.format(locals()))\n",
    "\n",
    "#print('global locals() : {}'.format(locals()))\n",
    "local1()"
   ]
  },
  {
   "cell_type": "code",
   "execution_count": null,
   "metadata": {
    "collapsed": true
   },
   "outputs": [],
   "source": []
  }
 ],
 "metadata": {
  "kernelspec": {
   "display_name": "Python 3",
   "language": "python",
   "name": "python3"
  },
  "language_info": {
   "codemirror_mode": {
    "name": "ipython",
    "version": 3
   },
   "file_extension": ".py",
   "mimetype": "text/x-python",
   "name": "python",
   "nbconvert_exporter": "python",
   "pygments_lexer": "ipython3",
   "version": "3.5.3"
  }
 },
 "nbformat": 4,
 "nbformat_minor": 2
}
